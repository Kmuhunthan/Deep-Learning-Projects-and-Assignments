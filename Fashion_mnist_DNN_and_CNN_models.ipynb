{
  "nbformat": 4,
  "nbformat_minor": 0,
  "metadata": {
    "colab": {
      "name": "Fashion_mnist_DNN and CNN models.ipynb",
      "provenance": []
    },
    "kernelspec": {
      "name": "python3",
      "display_name": "Python 3"
    },
    "accelerator": "GPU"
  },
  "cells": [
    {
      "cell_type": "markdown",
      "metadata": {
        "id": "TvlPbcKB_fiE"
      },
      "source": [
        "Fashion-MNIST classification with DNN"
      ]
    },
    {
      "cell_type": "code",
      "metadata": {
        "id": "EKAlShMB_hTr"
      },
      "source": [
        "#Importing the essential libraries\n",
        "\n",
        "import tensorflow as tf\n",
        "from tensorflow import keras\n",
        "import numpy as np\n",
        "import pandas as pd\n",
        "import matplotlib.pyplot as plt\n",
        "import pandas as pd\n",
        "import numpy as np\n",
        "import pylab as plt\n",
        "from sklearn.model_selection import train_test_split\n",
        "\n",
        "from IPython.display import clear_output\n",
        "from tensorflow.keras import layers\n",
        "\n",
        "from keras.callbacks import Callback\n",
        "from keras.models import Sequential\n",
        "from keras.utils import to_categorical\n",
        "\n",
        "from keras.models import Sequential\n",
        "from keras.layers import Convolution2D, BatchNormalization, MaxPool2D, Flatten, Dense, Dropout, Lambda\n",
        "from keras.optimizers import *\n",
        "from keras.wrappers.scikit_learn import KerasClassifier\n",
        "from keras.utils import to_categorical\n",
        "from sklearn.model_selection import GridSearchCV\n",
        "from keras.optimizers import SGD, RMSprop, Adagrad, Adadelta, Adam, Adamax, Nadam\n",
        "from keras.regularizers import l2\n",
        "from keras.models import Sequential\n",
        "from keras.layers import Conv2D,Dense,Flatten,Dropout,MaxPooling2D, GlobalAveragePooling1D, GlobalAveragePooling2D,Activation\n",
        "from keras.preprocessing.image import ImageDataGenerator\n",
        "from keras.callbacks import LearningRateScheduler\n",
        "from keras import regularizers\n",
        "import keras\n",
        "from keras.applications import VGG16\n",
        "from keras.applications.vgg16 import preprocess_input\n",
        "from keras.preprocessing.image import img_to_array, array_to_img"
      ],
      "execution_count": 1,
      "outputs": []
    },
    {
      "cell_type": "code",
      "metadata": {
        "id": "TQRVOgP0_7L9"
      },
      "source": [
        "#Import the fashion mnist dataset from keras\n",
        "fashion_mnist = keras.datasets.fashion_mnist\n",
        "\n",
        "(train_images, train_labels), (test_images, test_labels) = fashion_mnist.load_data()"
      ],
      "execution_count": 15,
      "outputs": []
    },
    {
      "cell_type": "code",
      "metadata": {
        "id": "Y9HS0Ig8_72s",
        "outputId": "e76e07bd-7da8-498d-e321-2376587e2e43",
        "colab": {
          "base_uri": "https://localhost:8080/",
          "height": 33
        }
      },
      "source": [
        "#Here we split the train dataset into train and validation data\n",
        "\n",
        "random_seed = 10\n",
        "image_shape = (28,28,1)\n",
        "\n",
        "x_train = train_images/255\n",
        "y_train = train_labels\n",
        "y_test = test_labels\n",
        "x_test = test_images/255\n",
        "\n",
        "#Split the X train into train and validation data\n",
        "x_train2, x_val, y_train2, y_val = train_test_split(x_train, y_train, test_size = 0.20, random_state=random_seed)\n",
        "\n",
        "\n",
        "x_train2.shape"
      ],
      "execution_count": 16,
      "outputs": [
        {
          "output_type": "execute_result",
          "data": {
            "text/plain": [
              "(48000, 28, 28)"
            ]
          },
          "metadata": {
            "tags": []
          },
          "execution_count": 16
        }
      ]
    },
    {
      "cell_type": "code",
      "metadata": {
        "id": "wp0ETcr_ADbI"
      },
      "source": [
        "#Creating an input data pipeline for the train and validation dataset\n",
        "\n",
        "\n",
        "tf_train_data = tf.data.Dataset.from_tensor_slices((x_train2, y_train2))\n",
        "tf_val_data = tf.data.Dataset.from_tensor_slices((x_val, y_val))\n",
        "tf_test_data = tf.data.Dataset.from_tensor_slices((x_test, y_test))\n",
        "\n",
        "#Image preprocessing \n",
        "def preprocess_image(image, label):\n",
        "    image = tf.reshape(image, [28, 28, 1])\n",
        "    image = tf.cast(image, tf.float32) / 255.\n",
        "    \n",
        "    return image, label\n",
        "\n",
        "tf_train_data = tf_train_data.map(\n",
        "    preprocess_image, \n",
        "    num_parallel_calls=tf.data.experimental.AUTOTUNE\n",
        ")\n",
        "\n",
        "tf_val_data = tf_val_data.map(\n",
        "    preprocess_image, \n",
        "    num_parallel_calls=tf.data.experimental.AUTOTUNE\n",
        ")\n",
        "\n",
        "\n",
        "tf_test_data = tf_test_data.map(\n",
        "    preprocess_image, \n",
        "    num_parallel_calls=tf.data.experimental.AUTOTUNE)\n",
        "\n",
        "def pipeline(tf_data):\n",
        "    tf_data = tf_data.shuffle(100)\n",
        "    tf_data = tf_data.batch(64)\n",
        "    tf_data = tf_data.prefetch(tf.data.experimental.AUTOTUNE)\n",
        "    \n",
        "    return tf_data\n",
        "\n",
        "tf_train_data = pipeline(tf_train_data)\n",
        "tf_val_data = pipeline(tf_val_data)\n",
        "tf_test_data = pipeline(tf_test_data)\n"
      ],
      "execution_count": 17,
      "outputs": []
    },
    {
      "cell_type": "code",
      "metadata": {
        "id": "AeX2nOJBBMqJ",
        "outputId": "f2e203dc-5556-45c6-c21e-6135be8f298a",
        "colab": {
          "base_uri": "https://localhost:8080/",
          "height": 716
        }
      },
      "source": [
        "#Model with only 6 dense layers\n",
        "\n",
        "model_1 = keras.Sequential([\n",
        "    keras.layers.Flatten(input_shape=(28,28)),\n",
        "    keras.layers.Dense(128, activation=tf.nn.relu),\n",
        "    keras.layers.Dense(128, activation=tf.nn.relu),\n",
        "    keras.layers.Dense(128, activation=tf.nn.relu),\n",
        "    keras.layers.Dense(128, activation=tf.nn.relu),\n",
        "    keras.layers.Dense(10, activation=tf.nn.softmax)\n",
        "])\n",
        "\n",
        "\n",
        "\n",
        "\n",
        "optimiser = tf.keras.optimizers.Adam(learning_rate=0.001)\n",
        "\n",
        "\n",
        "model_1.compile(\n",
        "    optimizer=optimiser, \n",
        "    loss='sparse_categorical_crossentropy', \n",
        "    metrics=['accuracy'])\n",
        "\n",
        "\n",
        "train_log = model_1.fit(\n",
        "    tf_train_data,\n",
        "    validation_data=(tf_val_data),\n",
        "    epochs=20\n",
        ")\n",
        "\n",
        "\n",
        "loss,acc = model_1.evaluate(tf_test_data)\n",
        "\n",
        "#Model evaluation by printing out the test accuracy\n",
        "print('test accuracy is',acc)\n",
        "print('test loss',loss)"
      ],
      "execution_count": 18,
      "outputs": [
        {
          "output_type": "stream",
          "text": [
            "Epoch 1/20\n",
            "750/750 [==============================] - 4s 5ms/step - loss: 0.9218 - accuracy: 0.6451 - val_loss: 0.7050 - val_accuracy: 0.7356\n",
            "Epoch 2/20\n",
            "750/750 [==============================] - 3s 5ms/step - loss: 0.6312 - accuracy: 0.7666 - val_loss: 0.6256 - val_accuracy: 0.7710\n",
            "Epoch 3/20\n",
            "750/750 [==============================] - 3s 4ms/step - loss: 0.5456 - accuracy: 0.7993 - val_loss: 0.5237 - val_accuracy: 0.8099\n",
            "Epoch 4/20\n",
            "750/750 [==============================] - 4s 5ms/step - loss: 0.4855 - accuracy: 0.8230 - val_loss: 0.4913 - val_accuracy: 0.8223\n",
            "Epoch 5/20\n",
            "750/750 [==============================] - 3s 4ms/step - loss: 0.4482 - accuracy: 0.8368 - val_loss: 0.4554 - val_accuracy: 0.8357\n",
            "Epoch 6/20\n",
            "750/750 [==============================] - 3s 4ms/step - loss: 0.4210 - accuracy: 0.8473 - val_loss: 0.4395 - val_accuracy: 0.8380\n",
            "Epoch 7/20\n",
            "750/750 [==============================] - 4s 5ms/step - loss: 0.4001 - accuracy: 0.8542 - val_loss: 0.4248 - val_accuracy: 0.8459\n",
            "Epoch 8/20\n",
            "750/750 [==============================] - 4s 5ms/step - loss: 0.3818 - accuracy: 0.8605 - val_loss: 0.4161 - val_accuracy: 0.8493\n",
            "Epoch 9/20\n",
            "750/750 [==============================] - 3s 4ms/step - loss: 0.3676 - accuracy: 0.8652 - val_loss: 0.4025 - val_accuracy: 0.8531\n",
            "Epoch 10/20\n",
            "750/750 [==============================] - 3s 4ms/step - loss: 0.3575 - accuracy: 0.8694 - val_loss: 0.4018 - val_accuracy: 0.8566\n",
            "Epoch 11/20\n",
            "750/750 [==============================] - 4s 5ms/step - loss: 0.3460 - accuracy: 0.8731 - val_loss: 0.3802 - val_accuracy: 0.8630\n",
            "Epoch 12/20\n",
            "750/750 [==============================] - 3s 4ms/step - loss: 0.3353 - accuracy: 0.8773 - val_loss: 0.3771 - val_accuracy: 0.8646\n",
            "Epoch 13/20\n",
            "750/750 [==============================] - 3s 5ms/step - loss: 0.3295 - accuracy: 0.8791 - val_loss: 0.3713 - val_accuracy: 0.8689\n",
            "Epoch 14/20\n",
            "750/750 [==============================] - 4s 5ms/step - loss: 0.3184 - accuracy: 0.8835 - val_loss: 0.3744 - val_accuracy: 0.8666\n",
            "Epoch 15/20\n",
            "750/750 [==============================] - 3s 5ms/step - loss: 0.3125 - accuracy: 0.8853 - val_loss: 0.3621 - val_accuracy: 0.8674\n",
            "Epoch 16/20\n",
            "750/750 [==============================] - 4s 5ms/step - loss: 0.3044 - accuracy: 0.8884 - val_loss: 0.3598 - val_accuracy: 0.8726\n",
            "Epoch 17/20\n",
            "750/750 [==============================] - 3s 5ms/step - loss: 0.2967 - accuracy: 0.8917 - val_loss: 0.3646 - val_accuracy: 0.8675\n",
            "Epoch 18/20\n",
            "750/750 [==============================] - 3s 5ms/step - loss: 0.2907 - accuracy: 0.8935 - val_loss: 0.3625 - val_accuracy: 0.8706\n",
            "Epoch 19/20\n",
            "750/750 [==============================] - 3s 5ms/step - loss: 0.2859 - accuracy: 0.8945 - val_loss: 0.3713 - val_accuracy: 0.8690\n",
            "Epoch 20/20\n",
            "750/750 [==============================] - 3s 5ms/step - loss: 0.2807 - accuracy: 0.8967 - val_loss: 0.3712 - val_accuracy: 0.8672\n",
            "157/157 [==============================] - 1s 4ms/step - loss: 0.3766 - accuracy: 0.8682\n",
            "test accuracy is 0.8682000041007996\n",
            "test loss 0.37655457854270935\n"
          ],
          "name": "stdout"
        }
      ]
    },
    {
      "cell_type": "markdown",
      "metadata": {
        "id": "dH4tKSPsDtkw"
      },
      "source": [
        "Classification with CNN"
      ]
    },
    {
      "cell_type": "code",
      "metadata": {
        "id": "HYvk8SvqDXha",
        "outputId": "8b80e6c7-2c9f-4d15-ce48-649ee8d051b7",
        "colab": {
          "base_uri": "https://localhost:8080/",
          "height": 667
        }
      },
      "source": [
        "#CNN model for fashion mnist\n",
        "\n",
        "def first_cnn():\n",
        "    model = Sequential()\n",
        "    model.add(Convolution2D(filters=32, kernel_size=(3, 3), input_shape=(28,28,1), activation='relu', padding='same', strides=2))\n",
        "    #model.add(layers.MaxPooling2D((2, 2)))\n",
        "    model.add(BatchNormalization())\n",
        "\n",
        "    model.add(Convolution2D(filters=32, kernel_size=(3, 3), activation='relu'))\n",
        "    model.add(BatchNormalization())\n",
        "    \n",
        "    model.add(Convolution2D(32, kernel_size = 5, strides=2, padding='same', activation='relu'))\n",
        "    #model.add(layers.MaxPooling2D((2, 2)))\n",
        "    model.add(BatchNormalization())\n",
        "    model.add(Dropout(0.4))\n",
        "    \n",
        "    model.add(Convolution2D(filters=64, kernel_size=(3, 3), activation='relu', padding='same', strides=2))\n",
        "    model.add(BatchNormalization())\n",
        "    \n",
        "    model.add(Convolution2D(64, kernel_size = 5, strides=1, padding='same', activation='relu'))\n",
        "    model.add(BatchNormalization())\n",
        "    model.add(Dropout(0.4))\n",
        "    \n",
        "    model.add(Convolution2D(128, kernel_size = 4, activation='relu', padding='same', strides=2))\n",
        "    #model.add(layers.MaxPooling2D((2, 2)))\n",
        "    model.add(BatchNormalization())\n",
        "    \n",
        "    model.add(Dropout(0.4))\n",
        "    model.add(Flatten())\n",
        "    model.add(Dense(128, activation='relu'))\n",
        "    model.add(Dense(10, activation='softmax'))\n",
        "\n",
        "    model.compile(loss='sparse_categorical_crossentropy', optimizer='adam', metrics=['accuracy'])\n",
        "    return model\n",
        "\n",
        "model = first_cnn()\n",
        "\n",
        "train_log = model.fit(\n",
        "    tf_train_data,\n",
        "    validation_data=(tf_val_data),\n",
        "    epochs=20\n",
        ")"
      ],
      "execution_count": 19,
      "outputs": [
        {
          "output_type": "stream",
          "text": [
            "Epoch 1/20\n",
            "750/750 [==============================] - 5s 7ms/step - loss: 0.6268 - accuracy: 0.7673 - val_loss: 0.4808 - val_accuracy: 0.8211\n",
            "Epoch 2/20\n",
            "750/750 [==============================] - 5s 6ms/step - loss: 0.4307 - accuracy: 0.8406 - val_loss: 0.3963 - val_accuracy: 0.8568\n",
            "Epoch 3/20\n",
            "750/750 [==============================] - 5s 7ms/step - loss: 0.3788 - accuracy: 0.8602 - val_loss: 0.3746 - val_accuracy: 0.8627\n",
            "Epoch 4/20\n",
            "750/750 [==============================] - 5s 7ms/step - loss: 0.3486 - accuracy: 0.8718 - val_loss: 0.3530 - val_accuracy: 0.8696\n",
            "Epoch 5/20\n",
            "750/750 [==============================] - 5s 6ms/step - loss: 0.3303 - accuracy: 0.8775 - val_loss: 0.3269 - val_accuracy: 0.8828\n",
            "Epoch 6/20\n",
            "750/750 [==============================] - 5s 7ms/step - loss: 0.3132 - accuracy: 0.8814 - val_loss: 0.3166 - val_accuracy: 0.8832\n",
            "Epoch 7/20\n",
            "750/750 [==============================] - 5s 6ms/step - loss: 0.2988 - accuracy: 0.8894 - val_loss: 0.3362 - val_accuracy: 0.8817\n",
            "Epoch 8/20\n",
            "750/750 [==============================] - 5s 7ms/step - loss: 0.2894 - accuracy: 0.8919 - val_loss: 0.3062 - val_accuracy: 0.8907\n",
            "Epoch 9/20\n",
            "750/750 [==============================] - 5s 7ms/step - loss: 0.2825 - accuracy: 0.8947 - val_loss: 0.3175 - val_accuracy: 0.8856\n",
            "Epoch 10/20\n",
            "750/750 [==============================] - 5s 7ms/step - loss: 0.2741 - accuracy: 0.8969 - val_loss: 0.2940 - val_accuracy: 0.8953\n",
            "Epoch 11/20\n",
            "750/750 [==============================] - 5s 6ms/step - loss: 0.2664 - accuracy: 0.9008 - val_loss: 0.2860 - val_accuracy: 0.8966\n",
            "Epoch 12/20\n",
            "750/750 [==============================] - 5s 7ms/step - loss: 0.2541 - accuracy: 0.9048 - val_loss: 0.2913 - val_accuracy: 0.8966\n",
            "Epoch 13/20\n",
            "750/750 [==============================] - 5s 7ms/step - loss: 0.2449 - accuracy: 0.9087 - val_loss: 0.2942 - val_accuracy: 0.8966\n",
            "Epoch 14/20\n",
            "750/750 [==============================] - 6s 7ms/step - loss: 0.2436 - accuracy: 0.9084 - val_loss: 0.2876 - val_accuracy: 0.8994\n",
            "Epoch 15/20\n",
            "750/750 [==============================] - 5s 7ms/step - loss: 0.2379 - accuracy: 0.9110 - val_loss: 0.2818 - val_accuracy: 0.8988\n",
            "Epoch 16/20\n",
            "750/750 [==============================] - 5s 7ms/step - loss: 0.2329 - accuracy: 0.9118 - val_loss: 0.2844 - val_accuracy: 0.8985\n",
            "Epoch 17/20\n",
            "750/750 [==============================] - 5s 7ms/step - loss: 0.2239 - accuracy: 0.9163 - val_loss: 0.2828 - val_accuracy: 0.9008\n",
            "Epoch 18/20\n",
            "750/750 [==============================] - 5s 7ms/step - loss: 0.2220 - accuracy: 0.9160 - val_loss: 0.2781 - val_accuracy: 0.9030\n",
            "Epoch 19/20\n",
            "750/750 [==============================] - 5s 7ms/step - loss: 0.2176 - accuracy: 0.9180 - val_loss: 0.2849 - val_accuracy: 0.9011\n",
            "Epoch 20/20\n",
            "750/750 [==============================] - 5s 7ms/step - loss: 0.2098 - accuracy: 0.9216 - val_loss: 0.2812 - val_accuracy: 0.9034\n"
          ],
          "name": "stdout"
        }
      ]
    },
    {
      "cell_type": "code",
      "metadata": {
        "id": "sWnoSwyaDnp1",
        "outputId": "a45d105d-5473-4e72-a9e5-71cbe8ce51b3",
        "colab": {
          "base_uri": "https://localhost:8080/",
          "height": 590
        }
      },
      "source": [
        "plt.plot(train_log.history['accuracy'], label='accuracy')\n",
        "plt.plot(train_log.history['val_accuracy'], label = 'val_accuracy')\n",
        "plt.xlabel('Epoch')\n",
        "plt.ylabel('Accuracy')\n",
        "plt.legend()\n",
        "plt.show()\n",
        "\n",
        "plt.plot(train_log.history['loss'])\n",
        "plt.plot(train_log.history['val_loss'])\n",
        "plt.xlabel('Epoch')\n",
        "plt.ylabel('Loss')\n",
        "plt.legend(['train', 'test'], loc='upper left')\n",
        "plt.show()\n",
        "\n",
        "\n",
        "test_loss1, test_acc1 = model.evaluate(tf_test_data)\n",
        "print(\"Tested Acc:\", test_acc1)\n",
        "print(\"Tested Loss:\", test_loss1)\n",
        "\n",
        "\n",
        "#The test accuracy is 90.4,\n",
        "#There is an improvement in the test accuracy after creating a CNN model,replacing the densely connected layers, for the image classification"
      ],
      "execution_count": 20,
      "outputs": [
        {
          "output_type": "display_data",
          "data": {
            "image/png": "[encoded data removed]",
            "text/plain": [
              "<Figure size 432x288 with 1 Axes>"
            ]
          },
          "metadata": {
            "tags": [],
            "needs_background": "light"
          }
        },
        {
          "output_type": "display_data",
          "data": {
            "image/png": "[encoded data removed]",
            "text/plain": [
              "<Figure size 432x288 with 1 Axes>"
            ]
          },
          "metadata": {
            "tags": [],
            "needs_background": "light"
          }
        },
        {
          "output_type": "stream",
          "text": [
            "157/157 [==============================] - 1s 4ms/step - loss: 0.2797 - accuracy: 0.9051\n",
            "Tested Acc: 0.9050999879837036\n",
            "Tested Loss: 0.2796657085418701\n"
          ],
          "name": "stdout"
        }
      ]
    },
    {
      "cell_type": "markdown",
      "metadata": {
        "id": "XWZW238CD9YW"
      },
      "source": [
        "Building an input pipeline for data augmentation"
      ]
    },
    {
      "cell_type": "code",
      "metadata": {
        "id": "szKqWnrsDobn",
        "outputId": "3f6b7118-2668-441c-efff-79602690206a",
        "colab": {
          "base_uri": "https://localhost:8080/",
          "height": 1000
        }
      },
      "source": [
        "AUTOTUNE = tf.data.experimental.AUTOTUNE\n",
        "\n",
        "IMAGE_SIZE = 28\n",
        "def augment(image,label):\n",
        "  image = tf.image.convert_image_dtype(image, tf.float32) \n",
        "  image = tf.image.random_flip_left_right(image)\n",
        "  image = tf.image.resize(image, (IMAGE_SIZE, IMAGE_SIZE))\n",
        "  #image = tf.image.resize_with_pad(image, IMAGE_SIZE + 6, IMAGE_SIZE + 6) # Add pixels of padding\n",
        "  #image = tf.image.random_crop(image, size=[IMAGE_SIZE, IMAGE_SIZE, 1]) # Random crop back to IMAGE_SIZExIMAGE_SIZE\n",
        "  return image, label\n",
        "\n",
        "augmented_train_batches = (\n",
        "    tf_train_data\n",
        "    .cache()\n",
        "    # The augmentation is added here.\n",
        "    .map(augment, num_parallel_calls=AUTOTUNE)\n",
        "    .repeat()\n",
        "    .prefetch(AUTOTUNE)\n",
        ")\n",
        "\n",
        "augmented_val_batches = (\n",
        "    tf_val_data\n",
        "    .cache()\n",
        "    # The augmentation is added here.\n",
        "    .map(augment, num_parallel_calls=AUTOTUNE)\n",
        "    .repeat()\n",
        "    .prefetch(AUTOTUNE)\n",
        ")\n",
        "\n",
        "\n",
        "\n",
        "model = first_cnn() \n",
        "\n",
        "\n",
        "\n",
        "aug_history = model.fit(\n",
        "      augmented_train_batches,\n",
        "   steps_per_epoch=len(x_train2)/64,\n",
        "      epochs=20,\n",
        "      validation_data=(augmented_val_batches),\n",
        "      validation_steps=750\n",
        "      )\n",
        "\n",
        "accuracy_Aug = model.evaluate(tf_test_data)\n",
        "print('Accuracy is: ', accuracy_Aug[1])\n",
        "print('Loss is: ', accuracy_Aug[0])\n",
        "\n",
        "#Accuracy and validation curves\n",
        "\n",
        "plt.plot(aug_history.history['accuracy'], label='accuracy')\n",
        "plt.plot(aug_history.history['val_accuracy'], label = 'val_accuracy')\n",
        "plt.xlabel('Epoch')\n",
        "plt.ylabel('Accuracy')\n",
        "plt.legend()\n",
        "plt.show()\n",
        "\n",
        "plt.plot(aug_history.history['loss'])\n",
        "plt.plot(aug_history.history['val_loss'])\n",
        "plt.xlabel('Epoch')\n",
        "plt.ylabel('Loss')\n",
        "plt.legend(['train', 'test'], loc='upper left')\n",
        "plt.show()\n",
        "\n",
        "#comparing the graphs of loss and validation for augmented and non augmented training data we can clearly say that data augmentation has reduced overfitting slightly\n",
        "#Although there is no huge difference in validation accuracies at both scenarios. "
      ],
      "execution_count": 21,
      "outputs": [
        {
          "output_type": "stream",
          "text": [
            "Epoch 1/20\n",
            "750/750 [==============================] - 7s 10ms/step - loss: 0.6717 - accuracy: 0.7523 - val_loss: 0.4824 - val_accuracy: 0.8230\n",
            "Epoch 2/20\n",
            "750/750 [==============================] - 6s 8ms/step - loss: 0.4487 - accuracy: 0.8342 - val_loss: 0.3973 - val_accuracy: 0.8544\n",
            "Epoch 3/20\n",
            "750/750 [==============================] - 6s 7ms/step - loss: 0.4008 - accuracy: 0.8521 - val_loss: 0.3662 - val_accuracy: 0.8642\n",
            "Epoch 4/20\n",
            "750/750 [==============================] - 6s 8ms/step - loss: 0.3706 - accuracy: 0.8636 - val_loss: 0.3421 - val_accuracy: 0.8733\n",
            "Epoch 5/20\n",
            "750/750 [==============================] - 6s 8ms/step - loss: 0.3504 - accuracy: 0.8703 - val_loss: 0.3322 - val_accuracy: 0.8770\n",
            "Epoch 6/20\n",
            "750/750 [==============================] - 6s 7ms/step - loss: 0.3372 - accuracy: 0.8753 - val_loss: 0.3486 - val_accuracy: 0.8729\n",
            "Epoch 7/20\n",
            "750/750 [==============================] - 5s 7ms/step - loss: 0.3232 - accuracy: 0.8795 - val_loss: 0.3343 - val_accuracy: 0.8785\n",
            "Epoch 8/20\n",
            "750/750 [==============================] - 5s 7ms/step - loss: 0.3171 - accuracy: 0.8820 - val_loss: 0.3238 - val_accuracy: 0.8837\n",
            "Epoch 9/20\n",
            "750/750 [==============================] - 5s 7ms/step - loss: 0.3053 - accuracy: 0.8873 - val_loss: 0.3310 - val_accuracy: 0.8849\n",
            "Epoch 10/20\n",
            "750/750 [==============================] - 5s 7ms/step - loss: 0.2933 - accuracy: 0.8904 - val_loss: 0.3087 - val_accuracy: 0.8911\n",
            "Epoch 11/20\n",
            "750/750 [==============================] - 6s 8ms/step - loss: 0.2909 - accuracy: 0.8922 - val_loss: 0.2967 - val_accuracy: 0.8926\n",
            "Epoch 12/20\n",
            "750/750 [==============================] - 6s 7ms/step - loss: 0.2797 - accuracy: 0.8959 - val_loss: 0.2945 - val_accuracy: 0.8937\n",
            "Epoch 13/20\n",
            "750/750 [==============================] - 6s 8ms/step - loss: 0.2740 - accuracy: 0.8989 - val_loss: 0.2913 - val_accuracy: 0.8943\n",
            "Epoch 14/20\n",
            "750/750 [==============================] - 6s 8ms/step - loss: 0.2700 - accuracy: 0.9003 - val_loss: 0.2770 - val_accuracy: 0.8988\n",
            "Epoch 15/20\n",
            "750/750 [==============================] - 6s 8ms/step - loss: 0.2647 - accuracy: 0.9010 - val_loss: 0.2819 - val_accuracy: 0.9007\n",
            "Epoch 16/20\n",
            "750/750 [==============================] - 6s 8ms/step - loss: 0.2598 - accuracy: 0.9024 - val_loss: 0.2884 - val_accuracy: 0.8966\n",
            "Epoch 17/20\n",
            "750/750 [==============================] - 6s 7ms/step - loss: 0.2498 - accuracy: 0.9078 - val_loss: 0.2774 - val_accuracy: 0.9019\n",
            "Epoch 18/20\n",
            "750/750 [==============================] - 6s 8ms/step - loss: 0.2491 - accuracy: 0.9069 - val_loss: 0.2967 - val_accuracy: 0.8978\n",
            "Epoch 19/20\n",
            "750/750 [==============================] - 6s 8ms/step - loss: 0.2427 - accuracy: 0.9098 - val_loss: 0.2858 - val_accuracy: 0.9002\n",
            "Epoch 20/20\n",
            "750/750 [==============================] - 6s 7ms/step - loss: 0.2392 - accuracy: 0.9091 - val_loss: 0.2776 - val_accuracy: 0.9032\n",
            "157/157 [==============================] - 1s 4ms/step - loss: 0.2785 - accuracy: 0.9014\n",
            "Accuracy is:  0.9014000296592712\n",
            "Loss is:  0.27849945425987244\n"
          ],
          "name": "stdout"
        },
        {
          "output_type": "display_data",
          "data": {
            "image/png": "[encoded data removed]",
            "text/plain": [
              "<Figure size 432x288 with 1 Axes>"
            ]
          },
          "metadata": {
            "tags": [],
            "needs_background": "light"
          }
        },
        {
          "output_type": "display_data",
          "data": {
            "image/png": "[encoded data removed]",
            "text/plain": [
              "<Figure size 432x288 with 1 Axes>"
            ]
          },
          "metadata": {
            "tags": [],
            "needs_background": "light"
          }
        }
      ]
    },
    {
      "cell_type": "markdown",
      "metadata": {
        "id": "rw3bR2_SW_jK"
      },
      "source": [
        "Use pretrained VGG16 convolutional base for Fashion MNIST dataset"
      ]
    },
    {
      "cell_type": "code",
      "metadata": {
        "id": "e87wCEciXnBE",
        "outputId": "94f71234-9806-4e3c-d04f-4fe3a907a4b6",
        "colab": {
          "base_uri": "https://localhost:8080/",
          "height": 115
        }
      },
      "source": [
        "#Loading the data\n",
        "fashion_mnist = keras.datasets.fashion_mnist\n",
        "(train_images, train_labels), (test_images, test_labels) = fashion_mnist.load_data()\n",
        "\n",
        "#Split the training and test data\n",
        "X_train, X_val, y_train, y_val = train_test_split(train_images, train_labels, test_size=0.2, random_state=13)\n",
        "X_test = test_images\n",
        "y_test = test_labels\n",
        "\n",
        "\n",
        "print(X_train.shape)\n",
        "print(X_val.shape)\n",
        "print(X_test.shape)\n",
        "\n",
        "#convert the images to 3 channels \n",
        "X_train = np.stack((X_train,)*3, axis=-1)\n",
        "X_test = np.stack((X_test,)*3, axis=-1)\n",
        "X_val = np.stack((X_val,)*3, axis=-1)\n",
        "print(X_train.shape)\n",
        "print(X_val.shape)\n",
        "print(X_test.shape)\n",
        "\n",
        "#Resize the images into 48 x 48 as required by vgg16\n",
        "X_train = np.asarray([img_to_array(array_to_img(im, scale=False).resize((48,48))) for im in X_train])\n",
        "X_test = np.asarray([img_to_array(array_to_img(im, scale=False).resize((48,48))) for im in X_test])\n",
        "X_val = np.asarray([img_to_array(array_to_img(im, scale=False).resize((48,48))) for im in X_val])\n",
        "\n",
        "#normalise the pixels and change the datatype to float\n",
        "X_train = X_train/ 255\n",
        "X_test = X_test/ 255\n",
        "X_val = X_val/ 255\n",
        "X_train = X_train.astype('float32')\n",
        "X_test = X_test.astype('float32')\n",
        "X_val =X_val.astype('float32')\n",
        "\n",
        "#assiging the reshaped image dimensions\n",
        "IMG_WIDTH = 48\n",
        "IMG_HEIGHT = 48\n",
        "IMG_DEPTH = 3\n",
        "BATCH_SIZE = 128"
      ],
      "execution_count": 23,
      "outputs": [
        {
          "output_type": "stream",
          "text": [
            "(48000, 28, 28)\n",
            "(12000, 28, 28)\n",
            "(10000, 28, 28)\n",
            "(48000, 28, 28, 3)\n",
            "(12000, 28, 28, 3)\n",
            "(10000, 28, 28, 3)\n"
          ],
          "name": "stdout"
        }
      ]
    },
    {
      "cell_type": "code",
      "metadata": {
        "id": "mhLzjOcptODG",
        "outputId": "be27793c-0a30-4a66-964c-d4a6f661699b",
        "colab": {
          "base_uri": "https://localhost:8080/",
          "height": 797
        }
      },
      "source": [
        "conv_base = VGG16(weights='imagenet',\n",
        "                  include_top=False, \n",
        "                  input_shape=(IMG_HEIGHT, IMG_WIDTH, IMG_DEPTH)\n",
        "                 )\n",
        "conv_base.summary()\n",
        "conv_base.trainable = False"
      ],
      "execution_count": 24,
      "outputs": [
        {
          "output_type": "stream",
          "text": [
            "Downloading data from https://storage.googleapis.com/tensorflow/keras-applications/vgg16/vgg16_weights_tf_dim_ordering_tf_kernels_notop.h5\n",
            "58892288/58889256 [==============================] - 1s 0us/step\n",
            "Model: \"vgg16\"\n",
            "_________________________________________________________________\n",
            "Layer (type)                 Output Shape              Param #   \n",
            "=================================================================\n",
            "input_1 (InputLayer)         [(None, 48, 48, 3)]       0         \n",
            "_________________________________________________________________\n",
            "block1_conv1 (Conv2D)        (None, 48, 48, 64)        1792      \n",
            "_________________________________________________________________\n",
            "block1_conv2 (Conv2D)        (None, 48, 48, 64)        36928     \n",
            "_________________________________________________________________\n",
            "block1_pool (MaxPooling2D)   (None, 24, 24, 64)        0         \n",
            "_________________________________________________________________\n",
            "block2_conv1 (Conv2D)        (None, 24, 24, 128)       73856     \n",
            "_________________________________________________________________\n",
            "block2_conv2 (Conv2D)        (None, 24, 24, 128)       147584    \n",
            "_________________________________________________________________\n",
            "block2_pool (MaxPooling2D)   (None, 12, 12, 128)       0         \n",
            "_________________________________________________________________\n",
            "block3_conv1 (Conv2D)        (None, 12, 12, 256)       295168    \n",
            "_________________________________________________________________\n",
            "block3_conv2 (Conv2D)        (None, 12, 12, 256)       590080    \n",
            "_________________________________________________________________\n",
            "block3_conv3 (Conv2D)        (None, 12, 12, 256)       590080    \n",
            "_________________________________________________________________\n",
            "block3_pool (MaxPooling2D)   (None, 6, 6, 256)         0         \n",
            "_________________________________________________________________\n",
            "block4_conv1 (Conv2D)        (None, 6, 6, 512)         1180160   \n",
            "_________________________________________________________________\n",
            "block4_conv2 (Conv2D)        (None, 6, 6, 512)         2359808   \n",
            "_________________________________________________________________\n",
            "block4_conv3 (Conv2D)        (None, 6, 6, 512)         2359808   \n",
            "_________________________________________________________________\n",
            "block4_pool (MaxPooling2D)   (None, 3, 3, 512)         0         \n",
            "_________________________________________________________________\n",
            "block5_conv1 (Conv2D)        (None, 3, 3, 512)         2359808   \n",
            "_________________________________________________________________\n",
            "block5_conv2 (Conv2D)        (None, 3, 3, 512)         2359808   \n",
            "_________________________________________________________________\n",
            "block5_conv3 (Conv2D)        (None, 3, 3, 512)         2359808   \n",
            "_________________________________________________________________\n",
            "block5_pool (MaxPooling2D)   (None, 1, 1, 512)         0         \n",
            "=================================================================\n",
            "Total params: 14,714,688\n",
            "Trainable params: 14,714,688\n",
            "Non-trainable params: 0\n",
            "_________________________________________________________________\n"
          ],
          "name": "stdout"
        }
      ]
    },
    {
      "cell_type": "code",
      "metadata": {
        "id": "_GvxS_XktS1z",
        "outputId": "bc0adfb3-a956-4593-9836-c5754ea07622",
        "colab": {
          "base_uri": "https://localhost:8080/",
          "height": 996
        }
      },
      "source": [
        "from keras import models\n",
        "from keras.models import Model\n",
        "from tensorflow.keras import layers\n",
        "from keras import optimizers\n",
        "from keras import callbacks\n",
        "from keras.layers.advanced_activations import LeakyReLU\n",
        "\n",
        "def model_vgg():\n",
        "  model= models.Sequential()\n",
        "  model.add(conv_base)\n",
        "  model.add(layers.Flatten())\n",
        "  model.add(layers.Dense(1024, activation='relu'))\n",
        "  model.add(layers.Dropout(0.5))\n",
        "  model.add(layers.Dense(10, activation='softmax'))\n",
        "  return model\n",
        "\n",
        "model = model_vgg()\n",
        "\n",
        "model.summary()\n",
        "\n",
        "\n",
        "model.compile(\n",
        "    loss='sparse_categorical_crossentropy',\n",
        "    optimizer=optimizers.Adam(learning_rate=0.01),\n",
        "  # optimizer=optimizers.RMSprop(lr=2e-5),\n",
        "    metrics=['acc'])\n",
        "\n",
        "history = model.fit(\n",
        "    X_train,\n",
        "    y_train,\n",
        "    epochs=20,\n",
        "    validation_data=(X_val, y_val)\n",
        ")"
      ],
      "execution_count": 25,
      "outputs": [
        {
          "output_type": "stream",
          "text": [
            "Model: \"sequential_6\"\n",
            "_________________________________________________________________\n",
            "Layer (type)                 Output Shape              Param #   \n",
            "=================================================================\n",
            "vgg16 (Functional)           (None, 1, 1, 512)         14714688  \n",
            "_________________________________________________________________\n",
            "flatten_6 (Flatten)          (None, 512)               0         \n",
            "_________________________________________________________________\n",
            "dense_18 (Dense)             (None, 1024)              525312    \n",
            "_________________________________________________________________\n",
            "dropout_12 (Dropout)         (None, 1024)              0         \n",
            "_________________________________________________________________\n",
            "dense_19 (Dense)             (None, 10)                10250     \n",
            "=================================================================\n",
            "Total params: 15,250,250\n",
            "Trainable params: 535,562\n",
            "Non-trainable params: 14,714,688\n",
            "_________________________________________________________________\n",
            "Epoch 1/20\n",
            "1500/1500 [==============================] - ETA: 0s - loss: 0.7093 - acc: 0.7526WARNING:tensorflow:Callbacks method `on_test_batch_end` is slow compared to the batch time (batch time: 0.0018s vs `on_test_batch_end` time: 0.0070s). Check your callbacks.\n",
            "1500/1500 [==============================] - 21s 14ms/step - loss: 0.7093 - acc: 0.7526 - val_loss: 0.4779 - val_acc: 0.8273\n",
            "Epoch 2/20\n",
            "1500/1500 [==============================] - 20s 14ms/step - loss: 0.6259 - acc: 0.7791 - val_loss: 0.4556 - val_acc: 0.8418\n",
            "Epoch 3/20\n",
            "1500/1500 [==============================] - 21s 14ms/step - loss: 0.6009 - acc: 0.7885 - val_loss: 0.4504 - val_acc: 0.8417\n",
            "Epoch 4/20\n",
            "1500/1500 [==============================] - 21s 14ms/step - loss: 0.5779 - acc: 0.7936 - val_loss: 0.4768 - val_acc: 0.8244\n",
            "Epoch 5/20\n",
            "1500/1500 [==============================] - 21s 14ms/step - loss: 0.5754 - acc: 0.7956 - val_loss: 0.4528 - val_acc: 0.8454\n",
            "Epoch 6/20\n",
            "1500/1500 [==============================] - 21s 14ms/step - loss: 0.5705 - acc: 0.7989 - val_loss: 0.4366 - val_acc: 0.8454\n",
            "Epoch 7/20\n",
            "1500/1500 [==============================] - 21s 14ms/step - loss: 0.5575 - acc: 0.8028 - val_loss: 0.4208 - val_acc: 0.8459\n",
            "Epoch 8/20\n",
            "1500/1500 [==============================] - 21s 14ms/step - loss: 0.5512 - acc: 0.8019 - val_loss: 0.4586 - val_acc: 0.8468\n",
            "Epoch 9/20\n",
            "1500/1500 [==============================] - 21s 14ms/step - loss: 0.5500 - acc: 0.8039 - val_loss: 0.4354 - val_acc: 0.8508\n",
            "Epoch 10/20\n",
            "1500/1500 [==============================] - 21s 14ms/step - loss: 0.5503 - acc: 0.8032 - val_loss: 0.4439 - val_acc: 0.8508\n",
            "Epoch 11/20\n",
            "1500/1500 [==============================] - 21s 14ms/step - loss: 0.5435 - acc: 0.8082 - val_loss: 0.4332 - val_acc: 0.8592\n",
            "Epoch 12/20\n",
            "1500/1500 [==============================] - 21s 14ms/step - loss: 0.5482 - acc: 0.8057 - val_loss: 0.4421 - val_acc: 0.8531\n",
            "Epoch 13/20\n",
            "1500/1500 [==============================] - 21s 14ms/step - loss: 0.5380 - acc: 0.8102 - val_loss: 0.4375 - val_acc: 0.8545\n",
            "Epoch 14/20\n",
            "1500/1500 [==============================] - 21s 14ms/step - loss: 0.5374 - acc: 0.8113 - val_loss: 0.4167 - val_acc: 0.8537\n",
            "Epoch 15/20\n",
            "1500/1500 [==============================] - 21s 14ms/step - loss: 0.5409 - acc: 0.8076 - val_loss: 0.4389 - val_acc: 0.8571\n",
            "Epoch 16/20\n",
            "1500/1500 [==============================] - 21s 14ms/step - loss: 0.5303 - acc: 0.8125 - val_loss: 0.4559 - val_acc: 0.8532\n",
            "Epoch 17/20\n",
            "1500/1500 [==============================] - 21s 14ms/step - loss: 0.5379 - acc: 0.8111 - val_loss: 0.4689 - val_acc: 0.8574\n",
            "Epoch 18/20\n",
            "1500/1500 [==============================] - 21s 14ms/step - loss: 0.5253 - acc: 0.8143 - val_loss: 0.4503 - val_acc: 0.8558\n",
            "Epoch 19/20\n",
            "1500/1500 [==============================] - 21s 14ms/step - loss: 0.5251 - acc: 0.8157 - val_loss: 0.4332 - val_acc: 0.8515\n",
            "Epoch 20/20\n",
            "1500/1500 [==============================] - 21s 14ms/step - loss: 0.5239 - acc: 0.8150 - val_loss: 0.4536 - val_acc: 0.8575\n"
          ],
          "name": "stdout"
        }
      ]
    },
    {
      "cell_type": "code",
      "metadata": {
        "id": "wDLENOB5tZwX",
        "outputId": "c7376a4c-a674-4f91-925d-08ada27d1f70",
        "colab": {
          "base_uri": "https://localhost:8080/",
          "height": 1000
        }
      },
      "source": [
        "#fine tuning of the vgg16\n",
        "!pip install git+https://github.com/tensorflow/docs\n",
        "\n",
        "import tensorflow_docs as tfdocs\n",
        "import tensorflow_docs.plots\n",
        "import matplotlib.pyplot as plt\n",
        "\n",
        "conv_base = VGG16(weights=None,\n",
        "                  include_top=False, \n",
        "                  input_shape=(IMG_HEIGHT, IMG_WIDTH, IMG_DEPTH)\n",
        "                 )\n",
        "\n",
        "## Freeze the layers except the last 4 layers\n",
        "for layer in conv_base.layers[:-4]:\n",
        "    layer.trainable = False\n",
        "\n",
        "# Check the trainable status of the individual layers\n",
        "for layer in conv_base.layers:\n",
        "    print(layer, layer.trainable)\n",
        "conv_base.summary()\n",
        "model1 = model_vgg()\n",
        "\n",
        "model1.compile(\n",
        "    loss='sparse_categorical_crossentropy',\n",
        "    optimizer=optimizers.Adam(learning_rate=0.001),\n",
        "    metrics=['acc'])\n",
        "\n",
        "fine_tuning_history = model1.fit(\n",
        "    X_train,\n",
        "    y_train,\n",
        "    epochs=20,\n",
        "    validation_data=(X_val, y_val)\n",
        ")\n",
        "\n",
        "\n",
        "\n",
        "plotter = tfdocs.plots.HistoryPlotter()\n",
        "plotter.plot({\"with_out_fine_tuning\": history, \"fine-tune\": fine_tuning_history}, metric = \"acc\")\n",
        "plt.title(\"Accuracy\")\n",
        "plt.ylim([0,1])\n",
        "plt.show()"
      ],
      "execution_count": 26,
      "outputs": [
        {
          "output_type": "stream",
          "text": [
            "Collecting git+https://github.com/tensorflow/docs\n",
            "  Cloning https://github.com/tensorflow/docs to /tmp/pip-req-build-q2kx8w67\n",
            "  Running command git clone -q https://github.com/tensorflow/docs /tmp/pip-req-build-q2kx8w67\n",
            "Requirement already satisfied: astor in /usr/local/lib/python3.6/dist-packages (from tensorflow-docs===0.0.0b9c5fbb59463da1764fc98e57295e872dacf900d-) (0.8.1)\n",
            "Requirement already satisfied: absl-py in /usr/local/lib/python3.6/dist-packages (from tensorflow-docs===0.0.0b9c5fbb59463da1764fc98e57295e872dacf900d-) (0.10.0)\n",
            "Requirement already satisfied: protobuf in /usr/local/lib/python3.6/dist-packages (from tensorflow-docs===0.0.0b9c5fbb59463da1764fc98e57295e872dacf900d-) (3.12.4)\n",
            "Requirement already satisfied: pyyaml in /usr/local/lib/python3.6/dist-packages (from tensorflow-docs===0.0.0b9c5fbb59463da1764fc98e57295e872dacf900d-) (3.13)\n",
            "Requirement already satisfied: six in /usr/local/lib/python3.6/dist-packages (from absl-py->tensorflow-docs===0.0.0b9c5fbb59463da1764fc98e57295e872dacf900d-) (1.15.0)\n",
            "Requirement already satisfied: setuptools in /usr/local/lib/python3.6/dist-packages (from protobuf->tensorflow-docs===0.0.0b9c5fbb59463da1764fc98e57295e872dacf900d-) (50.3.0)\n",
            "Building wheels for collected packages: tensorflow-docs\n",
            "  Building wheel for tensorflow-docs (setup.py) ... \u001b[?25l\u001b[?25hdone\n",
            "  Created wheel for tensorflow-docs: filename=tensorflow_docs-0.0.0b9c5fbb59463da1764fc98e57295e872dacf900d_-cp36-none-any.whl size=144138 sha256=c247adfb3b8c510349e8d4e742c3e7d52e4c4a0144ba10de2955e50fb78c6868\n",
            "  Stored in directory: /tmp/pip-ephem-wheel-cache-0zho3gdr/wheels/eb/1b/35/fce87697be00d2fc63e0b4b395b0d9c7e391a10e98d9a0d97f\n",
            "Successfully built tensorflow-docs\n",
            "Installing collected packages: tensorflow-docs\n",
            "Successfully installed tensorflow-docs-0.0.0b9c5fbb59463da1764fc98e57295e872dacf900d-\n",
            "<tensorflow.python.keras.engine.input_layer.InputLayer object at 0x7fa01720f8d0> False\n",
            "<tensorflow.python.keras.layers.convolutional.Conv2D object at 0x7fa0057936d8> False\n",
            "<tensorflow.python.keras.layers.convolutional.Conv2D object at 0x7fa00579ad30> False\n",
            "<tensorflow.python.keras.layers.pooling.MaxPooling2D object at 0x7fa00579a710> False\n",
            "<tensorflow.python.keras.layers.convolutional.Conv2D object at 0x7fa00445def0> False\n",
            "<tensorflow.python.keras.layers.convolutional.Conv2D object at 0x7fa0161a2c18> False\n",
            "<tensorflow.python.keras.layers.pooling.MaxPooling2D object at 0x7fa0161a25f8> False\n",
            "<tensorflow.python.keras.layers.convolutional.Conv2D object at 0x7fa0700625c0> False\n",
            "<tensorflow.python.keras.layers.convolutional.Conv2D object at 0x7fa00c388780> False\n",
            "<tensorflow.python.keras.layers.convolutional.Conv2D object at 0x7fa00c388eb8> False\n",
            "<tensorflow.python.keras.layers.pooling.MaxPooling2D object at 0x7fa00c380978> False\n",
            "<tensorflow.python.keras.layers.convolutional.Conv2D object at 0x7fa00c3804a8> False\n",
            "<tensorflow.python.keras.layers.convolutional.Conv2D object at 0x7fa00c2e8320> False\n",
            "<tensorflow.python.keras.layers.convolutional.Conv2D object at 0x7fa00c47d0b8> False\n",
            "<tensorflow.python.keras.layers.pooling.MaxPooling2D object at 0x7fa0165c60f0> False\n",
            "<tensorflow.python.keras.layers.convolutional.Conv2D object at 0x7fa0165c6128> True\n",
            "<tensorflow.python.keras.layers.convolutional.Conv2D object at 0x7fa01668b5c0> True\n",
            "<tensorflow.python.keras.layers.convolutional.Conv2D object at 0x7fa01668b898> True\n",
            "<tensorflow.python.keras.layers.pooling.MaxPooling2D object at 0x7fa0166f1ef0> True\n",
            "Model: \"vgg16\"\n",
            "_________________________________________________________________\n",
            "Layer (type)                 Output Shape              Param #   \n",
            "=================================================================\n",
            "input_2 (InputLayer)         [(None, 48, 48, 3)]       0         \n",
            "_________________________________________________________________\n",
            "block1_conv1 (Conv2D)        (None, 48, 48, 64)        1792      \n",
            "_________________________________________________________________\n",
            "block1_conv2 (Conv2D)        (None, 48, 48, 64)        36928     \n",
            "_________________________________________________________________\n",
            "block1_pool (MaxPooling2D)   (None, 24, 24, 64)        0         \n",
            "_________________________________________________________________\n",
            "block2_conv1 (Conv2D)        (None, 24, 24, 128)       73856     \n",
            "_________________________________________________________________\n",
            "block2_conv2 (Conv2D)        (None, 24, 24, 128)       147584    \n",
            "_________________________________________________________________\n",
            "block2_pool (MaxPooling2D)   (None, 12, 12, 128)       0         \n",
            "_________________________________________________________________\n",
            "block3_conv1 (Conv2D)        (None, 12, 12, 256)       295168    \n",
            "_________________________________________________________________\n",
            "block3_conv2 (Conv2D)        (None, 12, 12, 256)       590080    \n",
            "_________________________________________________________________\n",
            "block3_conv3 (Conv2D)        (None, 12, 12, 256)       590080    \n",
            "_________________________________________________________________\n",
            "block3_pool (MaxPooling2D)   (None, 6, 6, 256)         0         \n",
            "_________________________________________________________________\n",
            "block4_conv1 (Conv2D)        (None, 6, 6, 512)         1180160   \n",
            "_________________________________________________________________\n",
            "block4_conv2 (Conv2D)        (None, 6, 6, 512)         2359808   \n",
            "_________________________________________________________________\n",
            "block4_conv3 (Conv2D)        (None, 6, 6, 512)         2359808   \n",
            "_________________________________________________________________\n",
            "block4_pool (MaxPooling2D)   (None, 3, 3, 512)         0         \n",
            "_________________________________________________________________\n",
            "block5_conv1 (Conv2D)        (None, 3, 3, 512)         2359808   \n",
            "_________________________________________________________________\n",
            "block5_conv2 (Conv2D)        (None, 3, 3, 512)         2359808   \n",
            "_________________________________________________________________\n",
            "block5_conv3 (Conv2D)        (None, 3, 3, 512)         2359808   \n",
            "_________________________________________________________________\n",
            "block5_pool (MaxPooling2D)   (None, 1, 1, 512)         0         \n",
            "=================================================================\n",
            "Total params: 14,714,688\n",
            "Trainable params: 7,079,424\n",
            "Non-trainable params: 7,635,264\n",
            "_________________________________________________________________\n",
            "Epoch 1/20\n",
            "   1/1500 [..............................] - ETA: 8s - loss: 2.3025 - acc: 0.1250WARNING:tensorflow:Callbacks method `on_train_batch_end` is slow compared to the batch time (batch time: 0.0060s vs `on_train_batch_end` time: 0.0205s). Check your callbacks.\n",
            "1500/1500 [==============================] - ETA: 0s - loss: 1.0333 - acc: 0.5654WARNING:tensorflow:Callbacks method `on_test_batch_end` is slow compared to the batch time (batch time: 0.0022s vs `on_test_batch_end` time: 0.0070s). Check your callbacks.\n",
            "1500/1500 [==============================] - 32s 21ms/step - loss: 1.0333 - acc: 0.5654 - val_loss: 0.6204 - val_acc: 0.7526\n",
            "Epoch 2/20\n",
            "1500/1500 [==============================] - 32s 21ms/step - loss: 0.5815 - acc: 0.7738 - val_loss: 0.5486 - val_acc: 0.7854\n",
            "Epoch 3/20\n",
            "1500/1500 [==============================] - 32s 21ms/step - loss: 0.4876 - acc: 0.8136 - val_loss: 0.4952 - val_acc: 0.8209\n",
            "Epoch 4/20\n",
            "1500/1500 [==============================] - 32s 21ms/step - loss: 0.4308 - acc: 0.8427 - val_loss: 0.4554 - val_acc: 0.8345\n",
            "Epoch 5/20\n",
            "1500/1500 [==============================] - 32s 21ms/step - loss: 0.3945 - acc: 0.8555 - val_loss: 0.4671 - val_acc: 0.8260\n",
            "Epoch 6/20\n",
            "1500/1500 [==============================] - 32s 21ms/step - loss: 0.3681 - acc: 0.8670 - val_loss: 0.3650 - val_acc: 0.8659\n",
            "Epoch 7/20\n",
            "1500/1500 [==============================] - 32s 21ms/step - loss: 0.3457 - acc: 0.8748 - val_loss: 0.3732 - val_acc: 0.8637\n",
            "Epoch 8/20\n",
            "1500/1500 [==============================] - 32s 21ms/step - loss: 0.3319 - acc: 0.8793 - val_loss: 0.3654 - val_acc: 0.8658\n",
            "Epoch 9/20\n",
            "1500/1500 [==============================] - 32s 21ms/step - loss: 0.3166 - acc: 0.8840 - val_loss: 0.3619 - val_acc: 0.8698\n",
            "Epoch 10/20\n",
            "1500/1500 [==============================] - 32s 21ms/step - loss: 0.3079 - acc: 0.8884 - val_loss: 0.3377 - val_acc: 0.8731\n",
            "Epoch 11/20\n",
            "1500/1500 [==============================] - 32s 21ms/step - loss: 0.2991 - acc: 0.8899 - val_loss: 0.3259 - val_acc: 0.8827\n",
            "Epoch 12/20\n",
            "1500/1500 [==============================] - 32s 21ms/step - loss: 0.2898 - acc: 0.8944 - val_loss: 0.3254 - val_acc: 0.8839\n",
            "Epoch 13/20\n",
            "1500/1500 [==============================] - 32s 21ms/step - loss: 0.2776 - acc: 0.8974 - val_loss: 0.3411 - val_acc: 0.8715\n",
            "Epoch 14/20\n",
            "1500/1500 [==============================] - 32s 21ms/step - loss: 0.2721 - acc: 0.9001 - val_loss: 0.3314 - val_acc: 0.8867\n",
            "Epoch 15/20\n",
            "1500/1500 [==============================] - 32s 21ms/step - loss: 0.2652 - acc: 0.9033 - val_loss: 0.3275 - val_acc: 0.8857\n",
            "Epoch 16/20\n",
            "1500/1500 [==============================] - 32s 21ms/step - loss: 0.2595 - acc: 0.9053 - val_loss: 0.3552 - val_acc: 0.8720\n",
            "Epoch 17/20\n",
            "1500/1500 [==============================] - 32s 21ms/step - loss: 0.2667 - acc: 0.9011 - val_loss: 0.3355 - val_acc: 0.8831\n",
            "Epoch 18/20\n",
            "1500/1500 [==============================] - 32s 21ms/step - loss: 0.2551 - acc: 0.9068 - val_loss: 0.3413 - val_acc: 0.8837\n",
            "Epoch 19/20\n",
            "1500/1500 [==============================] - 32s 21ms/step - loss: 0.2512 - acc: 0.9067 - val_loss: 0.3253 - val_acc: 0.8863\n",
            "Epoch 20/20\n",
            "1500/1500 [==============================] - 32s 21ms/step - loss: 0.2426 - acc: 0.9102 - val_loss: 0.3281 - val_acc: 0.8821\n"
          ],
          "name": "stdout"
        },
        {
          "output_type": "display_data",
          "data": {
            "image/png": "[encoded data removed]",
            "text/plain": [
              "<Figure size 432x288 with 1 Axes>"
            ]
          },
          "metadata": {
            "tags": [],
            "needs_background": "light"
          }
        }
      ]
    },
    {
      "cell_type": "code",
      "metadata": {
        "id": "eFedruwktjLB",
        "outputId": "c7ade117-6398-4fb9-c6b8-94cbcf92ba75",
        "colab": {
          "base_uri": "https://localhost:8080/",
          "height": 82
        }
      },
      "source": [
        "#evaluating the model Without fine tuning\n",
        "test_acc = model.evaluate(X_test,y_test)\n",
        "print('test accuracy achieved is: ',test_acc[1])\n",
        "\n",
        "#with fine tuning \n",
        "test_acc = model1.evaluate(X_test,y_test)\n",
        "print('test accuracy achieved is: ',test_acc[1])"
      ],
      "execution_count": 27,
      "outputs": [
        {
          "output_type": "stream",
          "text": [
            "313/313 [==============================] - 4s 12ms/step - loss: 0.4751 - acc: 0.8505\n",
            "test accuracy achieved is:  0.8504999876022339\n",
            "313/313 [==============================] - 4s 12ms/step - loss: 0.3407 - acc: 0.8760\n",
            "test accuracy achieved is:  0.8759999871253967\n"
          ],
          "name": "stdout"
        }
      ]
    }
  ]
}